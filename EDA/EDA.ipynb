{
 "cells": [
  {
   "cell_type": "markdown",
   "metadata": {},
   "source": [
    "# Exploratory Data Analysis (EDA)\n",
    "In this notebook, we gain insights into our dataset.\n",
    "- What percentage of the issues are duplicates?\n",
    "- How is the number of duplicate count distributed?\n",
    "- What is the diversity of corpus? (Using Type-Token Ratio)\n",
    "- Unigram, Bigram, Trigram counts"
   ]
  },
  {
   "cell_type": "code",
   "execution_count": 1,
   "metadata": {},
   "outputs": [],
   "source": [
    "import pandas as pd\n",
    "import matplotlib.pyplot as plt\n",
    "import seaborn as sns\n",
    "import numpy as np\n",
    "from collections import Counter\n",
    "import re\n",
    "\n",
    "import nltk\n",
    "from nltk import ngrams\n",
    "from collections import Counter\n",
    "import seaborn as sns\n",
    "from nltk.corpus import stopwords\n",
    "from nltk.tokenize import word_tokenize"
   ]
  },
  {
   "cell_type": "code",
   "execution_count": 2,
   "metadata": {},
   "outputs": [
    {
     "data": {
      "text/html": [
       "<div>\n",
       "<style scoped>\n",
       "    .dataframe tbody tr th:only-of-type {\n",
       "        vertical-align: middle;\n",
       "    }\n",
       "\n",
       "    .dataframe tbody tr th {\n",
       "        vertical-align: top;\n",
       "    }\n",
       "\n",
       "    .dataframe thead th {\n",
       "        text-align: right;\n",
       "    }\n",
       "</style>\n",
       "<table border=\"1\" class=\"dataframe\">\n",
       "  <thead>\n",
       "    <tr style=\"text-align: right;\">\n",
       "      <th></th>\n",
       "      <th>Issue_id</th>\n",
       "      <th>Priority</th>\n",
       "      <th>Component</th>\n",
       "      <th>Title</th>\n",
       "      <th>Description</th>\n",
       "      <th>Status</th>\n",
       "      <th>Resolution</th>\n",
       "      <th>Version</th>\n",
       "      <th>Created_time</th>\n",
       "      <th>Resolved_time</th>\n",
       "      <th>Content</th>\n",
       "      <th>Duplicated_issues</th>\n",
       "      <th>Duplicates_count</th>\n",
       "    </tr>\n",
       "  </thead>\n",
       "  <tbody>\n",
       "    <tr>\n",
       "      <th>33591</th>\n",
       "      <td>335190</td>\n",
       "      <td>--</td>\n",
       "      <td>General</td>\n",
       "      <td>Ctrl+C does not copy</td>\n",
       "      <td>User-Agent:       Mozilla/5.0 (Windows; U; Win...</td>\n",
       "      <td>RESOLVED</td>\n",
       "      <td>DUPLICATE</td>\n",
       "      <td>unspecified</td>\n",
       "      <td>2006-04-23 18:45:42 -0700</td>\n",
       "      <td>2006-04-23 19:50:22 -0700</td>\n",
       "      <td>Ctrl+C does not copy User-Agent:       Mozilla...</td>\n",
       "      <td>[335186, 334862]</td>\n",
       "      <td>2</td>\n",
       "    </tr>\n",
       "    <tr>\n",
       "      <th>21703</th>\n",
       "      <td>294616</td>\n",
       "      <td>--</td>\n",
       "      <td>Menus</td>\n",
       "      <td>Open URL in context menu</td>\n",
       "      <td>User-Agent:       Mozilla/5.0 (Windows; U; Win...</td>\n",
       "      <td>RESOLVED</td>\n",
       "      <td>DUPLICATE</td>\n",
       "      <td>unspecified</td>\n",
       "      <td>2005-05-18 02:59:14 -0700</td>\n",
       "      <td>2006-01-19 00:20:44 -0800</td>\n",
       "      <td>Open URL in context menu User-Agent:       Moz...</td>\n",
       "      <td>[236336, 227922, 454518]</td>\n",
       "      <td>3</td>\n",
       "    </tr>\n",
       "    <tr>\n",
       "      <th>104453</th>\n",
       "      <td>787029</td>\n",
       "      <td>--</td>\n",
       "      <td>Untriaged</td>\n",
       "      <td>movement was canceled in web page   Navigation...</td>\n",
       "      <td>User Agent: Mozilla/5.0 (Windows NT 6.1; WOW64...</td>\n",
       "      <td>RESOLVED</td>\n",
       "      <td>DUPLICATE</td>\n",
       "      <td>14 Branch</td>\n",
       "      <td>2012-08-30 06:12:03 -0700</td>\n",
       "      <td>2012-08-30 06:30:58 -0700</td>\n",
       "      <td>movement was canceled in web page   Navigation...</td>\n",
       "      <td>[651803, 787021, 787022]</td>\n",
       "      <td>3</td>\n",
       "    </tr>\n",
       "    <tr>\n",
       "      <th>1900</th>\n",
       "      <td>203901</td>\n",
       "      <td>--</td>\n",
       "      <td>Toolbars and Customization</td>\n",
       "      <td>Folders in Bookmarks Toolbar stay Expanded if ...</td>\n",
       "      <td>User-Agent:       Mozilla/5.0 (Windows; U; Win...</td>\n",
       "      <td>VERIFIED</td>\n",
       "      <td>DUPLICATE</td>\n",
       "      <td>unspecified</td>\n",
       "      <td>2003-04-30 03:21:59 -0700</td>\n",
       "      <td>2006-11-13 07:16:57 -0800</td>\n",
       "      <td>Folders in Bookmarks Toolbar stay Expanded if ...</td>\n",
       "      <td>[197227, 203899, 210910]</td>\n",
       "      <td>3</td>\n",
       "    </tr>\n",
       "    <tr>\n",
       "      <th>1898</th>\n",
       "      <td>203898</td>\n",
       "      <td>--</td>\n",
       "      <td>Toolbars and Customization</td>\n",
       "      <td>Folders in Bookmarks Toolbar stay Expanded if ...</td>\n",
       "      <td>User-Agent:       Mozilla/5.0 (Windows; U; Win...</td>\n",
       "      <td>VERIFIED</td>\n",
       "      <td>DUPLICATE</td>\n",
       "      <td>unspecified</td>\n",
       "      <td>2003-04-30 03:10:53 -0700</td>\n",
       "      <td>2006-11-13 07:23:00 -0800</td>\n",
       "      <td>Folders in Bookmarks Toolbar stay Expanded if ...</td>\n",
       "      <td>[197227, 203899, 210910]</td>\n",
       "      <td>3</td>\n",
       "    </tr>\n",
       "  </tbody>\n",
       "</table>\n",
       "</div>"
      ],
      "text/plain": [
       "        Issue_id Priority                   Component  \\\n",
       "33591     335190       --                     General   \n",
       "21703     294616       --                       Menus   \n",
       "104453    787029       --                   Untriaged   \n",
       "1900      203901       --  Toolbars and Customization   \n",
       "1898      203898       --  Toolbars and Customization   \n",
       "\n",
       "                                                    Title  \\\n",
       "33591                                Ctrl+C does not copy   \n",
       "21703                            Open URL in context menu   \n",
       "104453  movement was canceled in web page   Navigation...   \n",
       "1900    Folders in Bookmarks Toolbar stay Expanded if ...   \n",
       "1898    Folders in Bookmarks Toolbar stay Expanded if ...   \n",
       "\n",
       "                                              Description    Status  \\\n",
       "33591   User-Agent:       Mozilla/5.0 (Windows; U; Win...  RESOLVED   \n",
       "21703   User-Agent:       Mozilla/5.0 (Windows; U; Win...  RESOLVED   \n",
       "104453  User Agent: Mozilla/5.0 (Windows NT 6.1; WOW64...  RESOLVED   \n",
       "1900    User-Agent:       Mozilla/5.0 (Windows; U; Win...  VERIFIED   \n",
       "1898    User-Agent:       Mozilla/5.0 (Windows; U; Win...  VERIFIED   \n",
       "\n",
       "       Resolution      Version               Created_time  \\\n",
       "33591   DUPLICATE  unspecified  2006-04-23 18:45:42 -0700   \n",
       "21703   DUPLICATE  unspecified  2005-05-18 02:59:14 -0700   \n",
       "104453  DUPLICATE    14 Branch  2012-08-30 06:12:03 -0700   \n",
       "1900    DUPLICATE  unspecified  2003-04-30 03:21:59 -0700   \n",
       "1898    DUPLICATE  unspecified  2003-04-30 03:10:53 -0700   \n",
       "\n",
       "                    Resolved_time  \\\n",
       "33591   2006-04-23 19:50:22 -0700   \n",
       "21703   2006-01-19 00:20:44 -0800   \n",
       "104453  2012-08-30 06:30:58 -0700   \n",
       "1900    2006-11-13 07:16:57 -0800   \n",
       "1898    2006-11-13 07:23:00 -0800   \n",
       "\n",
       "                                                  Content  \\\n",
       "33591   Ctrl+C does not copy User-Agent:       Mozilla...   \n",
       "21703   Open URL in context menu User-Agent:       Moz...   \n",
       "104453  movement was canceled in web page   Navigation...   \n",
       "1900    Folders in Bookmarks Toolbar stay Expanded if ...   \n",
       "1898    Folders in Bookmarks Toolbar stay Expanded if ...   \n",
       "\n",
       "               Duplicated_issues  Duplicates_count  \n",
       "33591           [335186, 334862]                 2  \n",
       "21703   [236336, 227922, 454518]                 3  \n",
       "104453  [651803, 787021, 787022]                 3  \n",
       "1900    [197227, 203899, 210910]                 3  \n",
       "1898    [197227, 203899, 210910]                 3  "
      ]
     },
     "execution_count": 2,
     "metadata": {},
     "output_type": "execute_result"
    }
   ],
   "source": [
    "df = pd.read_pickle('../data/mozilla_firefox.pkl')\n",
    "df.head()"
   ]
  },
  {
   "cell_type": "markdown",
   "metadata": {},
   "source": [
    "## What percentage of the issues are duplicates?"
   ]
  },
  {
   "cell_type": "code",
   "execution_count": 3,
   "metadata": {},
   "outputs": [
    {
     "name": "stdout",
     "output_type": "stream",
     "text": [
      "Percentage of issues that are duplicates: 13.59%\n"
     ]
    }
   ],
   "source": [
    "total_issues = df['Issue_id'].nunique()\n",
    "duplicate_issues = df[df['Duplicates_count'].apply(lambda x: x > 0)]['Issue_id'].nunique()\n",
    "percentage_duplicates = (duplicate_issues / total_issues) * 100\n",
    "print(f'Percentage of issues that are duplicates: {percentage_duplicates:.2f}%')"
   ]
  },
  {
   "cell_type": "code",
   "execution_count": 4,
   "metadata": {},
   "outputs": [
    {
     "data": {
      "image/png": "[encoded data removed]",
      "text/plain": [
       "<Figure size 640x480 with 1 Axes>"
      ]
     },
     "metadata": {},
     "output_type": "display_data"
    }
   ],
   "source": [
    "labels = 'Duplicate Issues', 'Unique Issues'\n",
    "sizes = [duplicate_issues, total_issues - duplicate_issues]\n",
    "explode = (0.1, 0)\n",
    "\n",
    "palette = sns.color_palette(\"Purples\", len(sizes))\n",
    "plt.pie(sizes, explode=explode, labels=labels, colors=palette,\n",
    "autopct='%1.1f%%', shadow=True, startangle=140)\n",
    "\n",
    "plt.axis('equal')\n",
    "plt.show()"
   ]
  },
  {
   "cell_type": "markdown",
   "metadata": {},
   "source": [
    "## How is the number of duplicate counts distributed?"
   ]
  },
  {
   "cell_type": "code",
   "execution_count": 5,
   "metadata": {},
   "outputs": [
    {
     "data": {
      "image/png": "[encoded data removed]",
      "text/plain": [
       "<Figure size 640x480 with 1 Axes>"
      ]
     },
     "metadata": {},
     "output_type": "display_data"
    }
   ],
   "source": [
    "unique_values, counts = np.unique(df['Duplicates_count'], return_counts=True)\n",
    "\n",
    "count_df = pd.DataFrame({'Duplicates_count': unique_values, 'Count': counts})\n",
    "\n",
    "sns.barplot(x='Duplicates_count', y='Count', data=count_df, color='blue')\n",
    "\n",
    "for i, count in enumerate(counts):\n",
    "    plt.text(i, count, str(count), ha='center', va='bottom')\n",
    "\n",
    "plt.xlabel('Duplicates_count')\n",
    "plt.ylabel('Count')\n",
    "plt.title('Duplicates_count Distribution')\n",
    "plt.show()"
   ]
  },
  {
   "cell_type": "markdown",
   "metadata": {},
   "source": [
    "## What is the diversity of corpus?\n",
    "- Concatenate all the content\n",
    "- Lemmatize, lowercase, remove stop words\n",
    "- Compute Type-Token Ratio"
   ]
  },
  {
   "cell_type": "code",
   "execution_count": null,
   "metadata": {},
   "outputs": [],
   "source": [
    "nltk.download('punkt')\n",
    "nltk.download('stopwords')"
   ]
  },
  {
   "cell_type": "code",
   "execution_count": 6,
   "metadata": {},
   "outputs": [
    {
     "name": "stdout",
     "output_type": "stream",
     "text": [
      "Type-Token Ratio: 0.0092\n"
     ]
    }
   ],
   "source": [
    "all_content = ' '.join(df['Content'].astype(str))\n",
    "words = word_tokenize(all_content.lower())\n",
    "\n",
    "types = len(set(words))\n",
    "total_tokens = len(words)\n",
    "ttr = types / total_tokens\n",
    "\n",
    "print(f'Type-Token Ratio: {ttr:.4f}')"
   ]
  },
  {
   "cell_type": "markdown",
   "metadata": {},
   "source": [
    "## Unigram, Bigram, Trigram counts"
   ]
  },
  {
   "cell_type": "code",
   "execution_count": null,
   "metadata": {},
   "outputs": [],
   "source": [
    "tokens = words\n",
    "\n",
    "unigram_counts = Counter(ngrams(tokens, 1))\n",
    "bigram_counts = Counter(ngrams(tokens, 2))\n",
    "trigram_counts = Counter(ngrams(tokens, 3))\n",
    "\n",
    "unigram_df = pd.DataFrame(unigram_counts.most_common(), columns=['unigram', 'count'])\n",
    "bigram_df = pd.DataFrame(bigram_counts.most_common(), columns=['bigram', 'count'])\n",
    "trigram_df = pd.DataFrame(trigram_counts.most_common(), columns=['trigram', 'count'])\n",
    "\n",
    "fig, axes = plt.subplots(3, 1, figsize=(10, 15))\n",
    "\n",
    "sns.histplot(data=unigram_df, x='count', bins=30, color='blue', ax=axes[0])\n",
    "axes[0].set_title('Unigram Counts')\n",
    "\n",
    "sns.histplot(data=bigram_df, x='count', bins=30, color='blue', ax=axes[1])\n",
    "axes[1].set_title('Bigram Counts')\n",
    "\n",
    "sns.histplot(data=trigram_df, x='count', bins=30, color='blue', ax=axes[2])\n",
    "axes[2].set_title('Trigram Counts')\n",
    "\n",
    "plt.tight_layout()\n",
    "plt.show()"
   ]
  }
 ],
 "metadata": {
  "kernelspec": {
   "display_name": "venv",
   "language": "python",
   "name": "python3"
  },
  "language_info": {
   "codemirror_mode": {
    "name": "ipython",
    "version": 3
   },
   "file_extension": ".py",
   "mimetype": "text/x-python",
   "name": "python",
   "nbconvert_exporter": "python",
   "pygments_lexer": "ipython3",
   "version": "3.10.12"
  }
 },
 "nbformat": 4,
 "nbformat_minor": 2
}
