{
 "cells": [
  {
   "cell_type": "markdown",
   "metadata": {},
   "source": [
    "# Evaluate\n",
    "This notebook imports the embeddings of the specified dataset created with the specified model and computes the evaluation scores as specified in the report."
   ]
  },
  {
   "cell_type": "code",
   "execution_count": 1,
   "metadata": {},
   "outputs": [],
   "source": [
    "import pandas as pd\n",
    "import sys\n",
    "import torch\n",
    "from sklearn.metrics.pairwise import cosine_similarity\n",
    "from sklearn.metrics import f1_score"
   ]
  },
  {
   "cell_type": "markdown",
   "metadata": {},
   "source": [
    "### Import Data"
   ]
  },
  {
   "cell_type": "code",
   "execution_count": 2,
   "metadata": {},
   "outputs": [],
   "source": [
    "dataset_name = 'mozilla_firefox'\n",
    "model_name = \"sentence-transformers/multi-qa-mpnet-base-dot-v1\"\n",
    "dataset_filename = '../data/' + dataset_name+'.pkl'\n",
    "embeddings_filename = '../data/' + dataset_name + '_embeddings_' + model_name + '.pkl'"
   ]
  },
  {
   "cell_type": "markdown",
   "metadata": {},
   "source": [
    "#### Dataset"
   ]
  },
  {
   "cell_type": "code",
   "execution_count": 3,
   "metadata": {},
   "outputs": [],
   "source": [
    "df = pd.read_pickle(dataset_filename)\n",
    "df['Content'] = df['Title'] + ' ' + df['Description']\n",
    "df[\"Issue_id\"] = df[\"Issue_id\"].astype('Int64')"
   ]
  },
  {
   "cell_type": "markdown",
   "metadata": {},
   "source": [
    "#### Embeddings"
   ]
  },
  {
   "cell_type": "code",
   "execution_count": 4,
   "metadata": {},
   "outputs": [
    {
     "data": {
      "text/html": [
       "<div>\n",
       "<style scoped>\n",
       "    .dataframe tbody tr th:only-of-type {\n",
       "        vertical-align: middle;\n",
       "    }\n",
       "\n",
       "    .dataframe tbody tr th {\n",
       "        vertical-align: top;\n",
       "    }\n",
       "\n",
       "    .dataframe thead th {\n",
       "        text-align: right;\n",
       "    }\n",
       "</style>\n",
       "<table border=\"1\" class=\"dataframe\">\n",
       "  <thead>\n",
       "    <tr style=\"text-align: right;\">\n",
       "      <th></th>\n",
       "      <th>Embedding</th>\n",
       "      <th>Issue_id</th>\n",
       "      <th>Duplicated_issues</th>\n",
       "    </tr>\n",
       "  </thead>\n",
       "  <tbody>\n",
       "    <tr>\n",
       "      <th>0</th>\n",
       "      <td>[0.012851419, -0.33054876, -0.006574377, -0.07...</td>\n",
       "      <td>335190</td>\n",
       "      <td>[335186, 334862]</td>\n",
       "    </tr>\n",
       "    <tr>\n",
       "      <th>1</th>\n",
       "      <td>[0.03474505, -0.56811595, 0.050481685, -0.0072...</td>\n",
       "      <td>213375</td>\n",
       "      <td>[205129, 215031]</td>\n",
       "    </tr>\n",
       "    <tr>\n",
       "      <th>2</th>\n",
       "      <td>[0.11539562, -0.9503943, -0.005325891, -0.0740...</td>\n",
       "      <td>364824</td>\n",
       "      <td>[514796, 364797]</td>\n",
       "    </tr>\n",
       "    <tr>\n",
       "      <th>3</th>\n",
       "      <td>[-0.20026457, -0.37414235, -0.072336145, -0.23...</td>\n",
       "      <td>294616</td>\n",
       "      <td>[236336, 227922, 454518]</td>\n",
       "    </tr>\n",
       "    <tr>\n",
       "      <th>4</th>\n",
       "      <td>[0.1587349, -0.33249483, -0.105194755, -0.1230...</td>\n",
       "      <td>787029</td>\n",
       "      <td>[651803, 787021, 787022]</td>\n",
       "    </tr>\n",
       "    <tr>\n",
       "      <th>...</th>\n",
       "      <td>...</td>\n",
       "      <td>...</td>\n",
       "      <td>...</td>\n",
       "    </tr>\n",
       "    <tr>\n",
       "      <th>122</th>\n",
       "      <td>[0.016738348, -0.34629786, 0.037005637, -0.330...</td>\n",
       "      <td>248180</td>\n",
       "      <td>[227241, 172962]</td>\n",
       "    </tr>\n",
       "    <tr>\n",
       "      <th>123</th>\n",
       "      <td>[-0.20274988, -0.5376741, -0.02285491, 0.06090...</td>\n",
       "      <td>614817</td>\n",
       "      <td>[587440]</td>\n",
       "    </tr>\n",
       "    <tr>\n",
       "      <th>124</th>\n",
       "      <td>[0.12489801, -0.36991528, 0.040070787, -0.3813...</td>\n",
       "      <td>266748</td>\n",
       "      <td>[260188]</td>\n",
       "    </tr>\n",
       "    <tr>\n",
       "      <th>125</th>\n",
       "      <td>[0.039607365, 0.26415166, -0.11275197, 0.17315...</td>\n",
       "      <td>282475</td>\n",
       "      <td>[219846]</td>\n",
       "    </tr>\n",
       "    <tr>\n",
       "      <th>126</th>\n",
       "      <td>[0.17958395, -0.5867905, 0.051029257, 0.009532...</td>\n",
       "      <td>324290</td>\n",
       "      <td>[269207, 274631]</td>\n",
       "    </tr>\n",
       "  </tbody>\n",
       "</table>\n",
       "<p>127 rows × 3 columns</p>\n",
       "</div>"
      ],
      "text/plain": [
       "                                             Embedding  Issue_id  \\\n",
       "0    [0.012851419, -0.33054876, -0.006574377, -0.07...    335190   \n",
       "1    [0.03474505, -0.56811595, 0.050481685, -0.0072...    213375   \n",
       "2    [0.11539562, -0.9503943, -0.005325891, -0.0740...    364824   \n",
       "3    [-0.20026457, -0.37414235, -0.072336145, -0.23...    294616   \n",
       "4    [0.1587349, -0.33249483, -0.105194755, -0.1230...    787029   \n",
       "..                                                 ...       ...   \n",
       "122  [0.016738348, -0.34629786, 0.037005637, -0.330...    248180   \n",
       "123  [-0.20274988, -0.5376741, -0.02285491, 0.06090...    614817   \n",
       "124  [0.12489801, -0.36991528, 0.040070787, -0.3813...    266748   \n",
       "125  [0.039607365, 0.26415166, -0.11275197, 0.17315...    282475   \n",
       "126  [0.17958395, -0.5867905, 0.051029257, 0.009532...    324290   \n",
       "\n",
       "            Duplicated_issues  \n",
       "0            [335186, 334862]  \n",
       "1            [205129, 215031]  \n",
       "2            [514796, 364797]  \n",
       "3    [236336, 227922, 454518]  \n",
       "4    [651803, 787021, 787022]  \n",
       "..                        ...  \n",
       "122          [227241, 172962]  \n",
       "123                  [587440]  \n",
       "124                  [260188]  \n",
       "125                  [219846]  \n",
       "126          [269207, 274631]  \n",
       "\n",
       "[127 rows x 3 columns]"
      ]
     },
     "execution_count": 4,
     "metadata": {},
     "output_type": "execute_result"
    }
   ],
   "source": [
    "\n",
    "embeddings_df = pd.read_pickle(embeddings_filename)\n",
    "embeddings_df"
   ]
  },
  {
   "cell_type": "markdown",
   "metadata": {},
   "source": [
    "#### Add Duplicated_issue and Duplicated_issues Columns to Embeddings Dataframe"
   ]
  },
  {
   "cell_type": "code",
   "execution_count": 5,
   "metadata": {},
   "outputs": [],
   "source": [
    "embeddings_df = pd.merge(embeddings_df, df[['Issue_id', 'Duplicated_issues']], on='Issue_id', how='left')"
   ]
  },
  {
   "cell_type": "markdown",
   "metadata": {},
   "source": [
    "### Import Sampled Data (This needs to be ran seperately)"
   ]
  },
  {
   "cell_type": "code",
   "execution_count": 10,
   "metadata": {},
   "outputs": [],
   "source": [
    "dataset_name = 'mozilla_firefox'\n",
    "model_name = \"sentence-transformers/multi-qa-mpnet-base-dot-v1\"\n",
    "dataset_filename = '../data/' + dataset_name+ '_subset.pkl'\n",
    "embeddings_filename = '../data/' + dataset_name + '_embeddings_' + model_name + '.pkl'"
   ]
  },
  {
   "cell_type": "markdown",
   "metadata": {},
   "source": [
    "This already has the duplicated issues and issue id (added in Embeddings notebook)"
   ]
  },
  {
   "cell_type": "code",
   "execution_count": 11,
   "metadata": {},
   "outputs": [
    {
     "data": {
      "text/html": [
       "<div>\n",
       "<style scoped>\n",
       "    .dataframe tbody tr th:only-of-type {\n",
       "        vertical-align: middle;\n",
       "    }\n",
       "\n",
       "    .dataframe tbody tr th {\n",
       "        vertical-align: top;\n",
       "    }\n",
       "\n",
       "    .dataframe thead th {\n",
       "        text-align: right;\n",
       "    }\n",
       "</style>\n",
       "<table border=\"1\" class=\"dataframe\">\n",
       "  <thead>\n",
       "    <tr style=\"text-align: right;\">\n",
       "      <th></th>\n",
       "      <th>Embedding</th>\n",
       "      <th>Issue_id</th>\n",
       "      <th>Duplicated_issues</th>\n",
       "    </tr>\n",
       "  </thead>\n",
       "  <tbody>\n",
       "    <tr>\n",
       "      <th>0</th>\n",
       "      <td>[0.012851419, -0.33054876, -0.006574377, -0.07...</td>\n",
       "      <td>335190</td>\n",
       "      <td>[335186, 334862]</td>\n",
       "    </tr>\n",
       "    <tr>\n",
       "      <th>1</th>\n",
       "      <td>[0.03474505, -0.56811595, 0.050481685, -0.0072...</td>\n",
       "      <td>213375</td>\n",
       "      <td>[205129, 215031]</td>\n",
       "    </tr>\n",
       "    <tr>\n",
       "      <th>2</th>\n",
       "      <td>[0.11539562, -0.9503943, -0.005325891, -0.0740...</td>\n",
       "      <td>364824</td>\n",
       "      <td>[514796, 364797]</td>\n",
       "    </tr>\n",
       "    <tr>\n",
       "      <th>3</th>\n",
       "      <td>[-0.20026457, -0.37414235, -0.072336145, -0.23...</td>\n",
       "      <td>294616</td>\n",
       "      <td>[236336, 227922, 454518]</td>\n",
       "    </tr>\n",
       "    <tr>\n",
       "      <th>4</th>\n",
       "      <td>[0.1587349, -0.33249483, -0.105194755, -0.1230...</td>\n",
       "      <td>787029</td>\n",
       "      <td>[651803, 787021, 787022]</td>\n",
       "    </tr>\n",
       "  </tbody>\n",
       "</table>\n",
       "</div>"
      ],
      "text/plain": [
       "                                           Embedding  Issue_id  \\\n",
       "0  [0.012851419, -0.33054876, -0.006574377, -0.07...    335190   \n",
       "1  [0.03474505, -0.56811595, 0.050481685, -0.0072...    213375   \n",
       "2  [0.11539562, -0.9503943, -0.005325891, -0.0740...    364824   \n",
       "3  [-0.20026457, -0.37414235, -0.072336145, -0.23...    294616   \n",
       "4  [0.1587349, -0.33249483, -0.105194755, -0.1230...    787029   \n",
       "\n",
       "          Duplicated_issues  \n",
       "0          [335186, 334862]  \n",
       "1          [205129, 215031]  \n",
       "2          [514796, 364797]  \n",
       "3  [236336, 227922, 454518]  \n",
       "4  [651803, 787021, 787022]  "
      ]
     },
     "execution_count": 11,
     "metadata": {},
     "output_type": "execute_result"
    }
   ],
   "source": [
    "embeddings_df = pd.read_pickle(embeddings_filename)\n",
    "embeddings_df.head()\n",
    "\n"
   ]
  },
  {
   "cell_type": "markdown",
   "metadata": {},
   "source": [
    "### Evaluate"
   ]
  },
  {
   "cell_type": "code",
   "execution_count": 27,
   "metadata": {},
   "outputs": [],
   "source": [
    "def compute_f1(embeddings_df, threshold=0.5):\n",
    "    similarity_matrix = cosine_similarity(embeddings_df['Embedding'].tolist())\n",
    "    true_positives = 0\n",
    "    false_positives = 0\n",
    "    false_negatives = 0\n",
    "    true_negatives = 0\n",
    "\n",
    "    for i in range(len(embeddings_df)):\n",
    "        for j in range(i + 1, len(embeddings_df)):\n",
    "            # Handling noise in data: the content is exact the same (causing the score to be above of thershold) but ids are different and they are not part of eachothers duplicated issues \n",
    "            # please check embedding's data inconsistencies section\n",
    "            if similarity_matrix[i, j] > 0.98:\n",
    "                continue\n",
    "            is_duplicate = False\n",
    "\n",
    "            # Check if i's issue_id is in j's duplicated list or if j's issue_id is in i's duplicated list\n",
    "            is_duplicate = (embeddings_df['Issue_id'].iloc[j] in embeddings_df['Duplicated_issues'].iloc[i]) or (embeddings_df['Issue_id'].iloc[i] in embeddings_df['Duplicated_issues'].iloc[j])\n",
    "\n",
    "            is_above_threshold = similarity_matrix[i, j] >= threshold\n",
    "            if is_duplicate and is_above_threshold:\n",
    "                true_positives += 1\n",
    "            elif is_duplicate and not is_above_threshold:\n",
    "                false_negatives += 1\n",
    "            elif not is_duplicate and is_above_threshold:\n",
    "                false_positives += 1\n",
    "            elif not is_duplicate and not is_above_threshold:\n",
    "                true_negatives += 1\n",
    "\n",
    "    precision = true_positives / (true_positives + false_positives) if true_positives + false_positives > 0 else 0\n",
    "    recall = true_positives / (true_positives + false_negatives) if true_positives + false_negatives > 0 else 0\n",
    "    f1 = 2 * (precision * recall) / (precision + recall) if precision + recall > 0 else 0\n",
    "    return f1, precision, recall, similarity_matrix, true_positives, false_positives, false_negatives, true_negatives"
   ]
  },
  {
   "cell_type": "code",
   "execution_count": 28,
   "metadata": {},
   "outputs": [
    {
     "name": "stdout",
     "output_type": "stream",
     "text": [
      "True positives:  40\n",
      "false negative:  28\n",
      "true negative:  7863\n",
      "false postive:  45\n",
      "F1 score: 0.5228758169934641\n",
      "Precision: 0.47058823529411764\n",
      "Recall 0.5882352941176471\n"
     ]
    }
   ],
   "source": [
    "f1, precision, recall, similarity_matrix, true_positives, false_positives, false_negatives, true_negatives = compute_f1(embeddings_df, threshold=0.622)\n",
    "\n",
    "\n",
    "# actually duplicates, flagged duplicate \n",
    "print('True positives: ', true_positives)\n",
    "\n",
    "# actually duplicates and not flagged\n",
    "print('false negative: ', false_negatives)\n",
    "\n",
    "# not duplicates and not flagged\n",
    "print('true negative: ', true_negatives)\n",
    "\n",
    "# not duplicates and flagged\n",
    "print('false postive: ', false_positives)\n",
    "\n",
    "\n",
    "print('F1 score:', f1)\n",
    "print('Precision:', precision)\n",
    "print('Recall', recall)"
   ]
  },
  {
   "cell_type": "markdown",
   "metadata": {},
   "source": [
    "### Evaluating using cross entropy loss\n",
    "\n",
    "-  Since the output of cosine similarity is a continuous value between -1 and 1, and we are interested in a binary classification problem (with true labels being 0 or 1) we are transforming the cosine similarity scores to a [0, 1] range to represent probabilities. \n",
    "\n",
    "A common approach is to use the sigmoid function to map the cosine similarities to probabilities. "
   ]
  },
  {
   "cell_type": "code",
   "execution_count": 29,
   "metadata": {},
   "outputs": [],
   "source": [
    "import torch.nn.functional as F\n",
    "\n",
    "def compute_crossEntropy(embeddings_df):\n",
    "    similarity_matrix = cosine_similarity(embeddings_df['Embedding'].tolist())\n",
    "\n",
    "    # Prepare lists to store similarity scores and the ground truth labels\n",
    "    similarity_scores = []\n",
    "    ground_truth_labels = []\n",
    "\n",
    "    for i in range(len(embeddings_df)):\n",
    "        for j in range(i + 1, len(embeddings_df)):\n",
    "            is_duplicate = False\n",
    "            # Handling noise in data: the content is exact the same (causing the score to be above of thershold) but ids are different and they are not part of eachothers duplicated issues \n",
    "            # please check embedding's data inconsistencies section\n",
    "            if similarity_matrix[i, j] > 0.98:\n",
    "                continue\n",
    "            # Check if i's issue_id is in j's duplicated list or if j's issue_id is in i's duplicated list\n",
    "            is_duplicate = (embeddings_df['Issue_id'].iloc[j] in embeddings_df['Duplicated_issues'].iloc[i]) or (embeddings_df['Issue_id'].iloc[i] in embeddings_df['Duplicated_issues'].iloc[j])\n",
    "            ground_truth = 1 if is_duplicate else 0\n",
    "            \n",
    "            # Store the similarity score and the ground truth\n",
    "            similarity_scores.append(similarity_matrix[i, j])\n",
    "            ground_truth_labels.append(ground_truth)\n",
    "                        \n",
    "\n",
    "    similarity_scores_tensor = torch.tensor(similarity_scores)\n",
    "    ground_truth_labels_tensor = torch.tensor(ground_truth_labels, dtype=torch.float)\n",
    "\n",
    "    # Apply sigmoid to interpret similarity scores as probabilities\n",
    "    probabilities = torch.sigmoid(similarity_scores_tensor)\n",
    "    # Compute binary cross-entropy loss\n",
    "    loss = F.binary_cross_entropy(probabilities, ground_truth_labels_tensor)\n",
    "    return loss"
   ]
  },
  {
   "cell_type": "code",
   "execution_count": 30,
   "metadata": {},
   "outputs": [
    {
     "name": "stdout",
     "output_type": "stream",
     "text": [
      "cross entropy loss is:  tensor(0.8845)\n"
     ]
    }
   ],
   "source": [
    "loss = compute_crossEntropy(embeddings_df)\n",
    "print(\"cross entropy loss is: \", loss)\n"
   ]
  },
  {
   "cell_type": "markdown",
   "metadata": {},
   "source": [
    "### ROC-AUC Evaluation"
   ]
  },
  {
   "cell_type": "code",
   "execution_count": 19,
   "metadata": {},
   "outputs": [],
   "source": [
    "import numpy as np\n",
    "from sklearn.metrics import roc_curve, auc\n",
    "import matplotlib.pyplot as plt\n",
    "\n",
    "def compute_roc_auc(embeddings_df):\n",
    "    # Assuming cosine_similarity is a function that computes the cosine similarity matrix\n",
    "    similarity_matrix = cosine_similarity(embeddings_df['Embedding'].tolist())\n",
    "    ground_truth = []\n",
    "    scores = []\n",
    "\n",
    "    for i in range(len(embeddings_df)):\n",
    "        for j in range(i + 1, len(embeddings_df)):\n",
    "            is_duplicate = (embeddings_df['Issue_id'].iloc[j] in embeddings_df['Duplicated_issues'].iloc[i]) or \\\n",
    "                           (embeddings_df['Issue_id'].iloc[i] in embeddings_df['Duplicated_issues'].iloc[j])\n",
    "            ground_truth.append(int(is_duplicate))\n",
    "            scores.append(similarity_matrix[i, j])\n",
    "\n",
    "    # Convert to numpy arrays for sklearn\n",
    "    ground_truth = np.array(ground_truth)\n",
    "    scores = np.array(scores)\n",
    "\n",
    "    # Compute ROC curve and ROC area\n",
    "    fpr, tpr, _ = roc_curve(ground_truth, scores)\n",
    "    roc_auc = auc(fpr, tpr)\n",
    "\n",
    "    # Plot ROC curve\n",
    "    plt.figure()\n",
    "    plt.plot(fpr, tpr, color='darkorange', lw=2, label='ROC curve (area = %0.2f)' % roc_auc)\n",
    "    plt.plot([0, 1], [0, 1], color='navy', lw=2, linestyle='--')\n",
    "    plt.xlim([0.0, 1.0])\n",
    "    plt.ylim([0.0, 1.05])\n",
    "    plt.xlabel('False Positive Rate')\n",
    "    plt.ylabel('True Positive Rate')\n",
    "    plt.title('Receiver Operating Characteristic')\n",
    "    plt.legend(loc=\"lower right\")\n",
    "    plt.show()\n",
    "\n",
    "    return roc_auc\n",
    "\n",
    "\n"
   ]
  },
  {
   "cell_type": "code",
   "execution_count": 20,
   "metadata": {},
   "outputs": [
    {
     "data": {
      "image/png": "[encoded data removed]",
      "text/plain": [
       "<Figure size 640x480 with 1 Axes>"
      ]
     },
     "metadata": {},
     "output_type": "display_data"
    },
    {
     "name": "stdout",
     "output_type": "stream",
     "text": [
      "ROC-AUC: 0.9570201047847494\n"
     ]
    }
   ],
   "source": [
    "# Call the function\n",
    "roc_auc = compute_roc_auc(embeddings_df)\n",
    "print(f\"ROC-AUC: {roc_auc}\")"
   ]
  }
 ],
 "metadata": {
  "kernelspec": {
   "display_name": "venv",
   "language": "python",
   "name": "python3"
  },
  "language_info": {
   "codemirror_mode": {
    "name": "ipython",
    "version": 3
   },
   "file_extension": ".py",
   "mimetype": "text/x-python",
   "name": "python",
   "nbconvert_exporter": "python",
   "pygments_lexer": "ipython3",
   "version": "3.10.12"
  }
 },
 "nbformat": 4,
 "nbformat_minor": 2
}
