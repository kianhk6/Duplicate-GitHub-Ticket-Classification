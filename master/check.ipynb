{
 "cells": [
  {
   "cell_type": "code",
   "execution_count": 1,
   "metadata": {},
   "outputs": [],
   "source": [
    "import configurations as cfg\n",
    "import pandas as pd"
   ]
  },
  {
   "cell_type": "code",
   "execution_count": 2,
   "metadata": {},
   "outputs": [],
   "source": [
    "data_path = cfg.DATA_PATH\n",
    "dataset_filename = cfg.DATASET_FILE\n",
    "dataset_filename_pickle = cfg.DATASET_PICKLE_FILE\n",
    "dataset_name = cfg.DATASET_NAME\n",
    "model_name = cfg.MODEL_USED"
   ]
  },
  {
   "cell_type": "markdown",
   "metadata": {},
   "source": [
    "# Extract, Transform, Load"
   ]
  },
  {
   "cell_type": "code",
   "execution_count": 3,
   "metadata": {},
   "outputs": [],
   "source": [
    "from extract_transform_load import ETLProcessor"
   ]
  },
  {
   "cell_type": "code",
   "execution_count": 4,
   "metadata": {},
   "outputs": [],
   "source": [
    "etl_processor = ETLProcessor(dataset_filename, dataset_filename_pickle)"
   ]
  },
  {
   "cell_type": "code",
   "execution_count": 5,
   "metadata": {},
   "outputs": [],
   "source": [
    "etl_processor.load_and_process_data()"
   ]
  },
  {
   "cell_type": "code",
   "execution_count": 6,
   "metadata": {},
   "outputs": [],
   "source": [
    "processed_df = pd.read_pickle(dataset_filename_pickle)"
   ]
  },
  {
   "cell_type": "code",
   "execution_count": 7,
   "metadata": {},
   "outputs": [
    {
     "data": {
      "text/html": [
       "<div>\n",
       "<style scoped>\n",
       "    .dataframe tbody tr th:only-of-type {\n",
       "        vertical-align: middle;\n",
       "    }\n",
       "\n",
       "    .dataframe tbody tr th {\n",
       "        vertical-align: top;\n",
       "    }\n",
       "\n",
       "    .dataframe thead th {\n",
       "        text-align: right;\n",
       "    }\n",
       "</style>\n",
       "<table border=\"1\" class=\"dataframe\">\n",
       "  <thead>\n",
       "    <tr style=\"text-align: right;\">\n",
       "      <th></th>\n",
       "      <th>Issue_id</th>\n",
       "      <th>Priority</th>\n",
       "      <th>Component</th>\n",
       "      <th>Title</th>\n",
       "      <th>Description</th>\n",
       "      <th>Status</th>\n",
       "      <th>Resolution</th>\n",
       "      <th>Version</th>\n",
       "      <th>Created_time</th>\n",
       "      <th>Resolved_time</th>\n",
       "      <th>Content</th>\n",
       "      <th>Duplicated_issues</th>\n",
       "      <th>Duplicates_count</th>\n",
       "    </tr>\n",
       "  </thead>\n",
       "  <tbody>\n",
       "    <tr>\n",
       "      <th>0</th>\n",
       "      <td>10954</td>\n",
       "      <td>P3</td>\n",
       "      <td>Preferences</td>\n",
       "      <td>Dialup properties needs to be exposed in prefs</td>\n",
       "      <td>The dialup properties of the profile should be...</td>\n",
       "      <td>RESOLVED</td>\n",
       "      <td>WONTFIX</td>\n",
       "      <td>Trunk</td>\n",
       "      <td>1999-07-30 15:55:51 -0700</td>\n",
       "      <td>2008-05-14 11:44:15 -0700</td>\n",
       "      <td>Dialup properties needs to be exposed in prefs...</td>\n",
       "      <td>[]</td>\n",
       "      <td>0</td>\n",
       "    </tr>\n",
       "    <tr>\n",
       "      <th>1</th>\n",
       "      <td>14871</td>\n",
       "      <td>--</td>\n",
       "      <td>General</td>\n",
       "      <td>[Find] Find whole word only</td>\n",
       "      <td>Please add Match Whole Word Only option to bro...</td>\n",
       "      <td>RESOLVED</td>\n",
       "      <td>NDUPLICATE</td>\n",
       "      <td>Trunk</td>\n",
       "      <td>1999-09-24 14:49:34 -0700</td>\n",
       "      <td>2011-10-05 16:35:31 -0700</td>\n",
       "      <td>[Find] Find whole word only Please add Match W...</td>\n",
       "      <td>[]</td>\n",
       "      <td>0</td>\n",
       "    </tr>\n",
       "    <tr>\n",
       "      <th>2</th>\n",
       "      <td>19118</td>\n",
       "      <td>--</td>\n",
       "      <td>Preferences</td>\n",
       "      <td>Plug-In Manager (ui for choosing mimetype-plug...</td>\n",
       "      <td>I would really like a plug-in manager for my b...</td>\n",
       "      <td>RESOLVED</td>\n",
       "      <td>WONTFIX</td>\n",
       "      <td>Trunk</td>\n",
       "      <td>1999-11-17 14:58:26 -0800</td>\n",
       "      <td>2013-01-29 11:48:39 -0800</td>\n",
       "      <td>Plug-In Manager (ui for choosing mimetype-plug...</td>\n",
       "      <td>[]</td>\n",
       "      <td>0</td>\n",
       "    </tr>\n",
       "    <tr>\n",
       "      <th>3</th>\n",
       "      <td>54746</td>\n",
       "      <td>P3</td>\n",
       "      <td>Preferences</td>\n",
       "      <td>Language encodings in font prefs dialog not so...</td>\n",
       "      <td>Language encodings are listed in a seemingly r...</td>\n",
       "      <td>RESOLVED</td>\n",
       "      <td>WORKSFORME</td>\n",
       "      <td>Trunk</td>\n",
       "      <td>2000-09-29 14:12:11 -0700</td>\n",
       "      <td>2013-02-27 15:47:29 -0800</td>\n",
       "      <td>Language encodings in font prefs dialog not so...</td>\n",
       "      <td>[696639]</td>\n",
       "      <td>1</td>\n",
       "    </tr>\n",
       "    <tr>\n",
       "      <th>4</th>\n",
       "      <td>56892</td>\n",
       "      <td>P3</td>\n",
       "      <td>General</td>\n",
       "      <td>Synaptics touchpad scrolling not working</td>\n",
       "      <td>From Bugzilla Helper:; User-Agent: Mozilla/5.0...</td>\n",
       "      <td>RESOLVED</td>\n",
       "      <td>WORKSFORME</td>\n",
       "      <td>unspecified</td>\n",
       "      <td>2000-10-16 14:48:15 -0700</td>\n",
       "      <td>2009-10-14 11:38:29 -0700</td>\n",
       "      <td>Synaptics touchpad scrolling not working From ...</td>\n",
       "      <td>[]</td>\n",
       "      <td>0</td>\n",
       "    </tr>\n",
       "  </tbody>\n",
       "</table>\n",
       "</div>"
      ],
      "text/plain": [
       "   Issue_id Priority    Component  \\\n",
       "0     10954       P3  Preferences   \n",
       "1     14871       --      General   \n",
       "2     19118       --  Preferences   \n",
       "3     54746       P3  Preferences   \n",
       "4     56892       P3      General   \n",
       "\n",
       "                                               Title  \\\n",
       "0     Dialup properties needs to be exposed in prefs   \n",
       "1                        [Find] Find whole word only   \n",
       "2  Plug-In Manager (ui for choosing mimetype-plug...   \n",
       "3  Language encodings in font prefs dialog not so...   \n",
       "4           Synaptics touchpad scrolling not working   \n",
       "\n",
       "                                         Description    Status  Resolution  \\\n",
       "0  The dialup properties of the profile should be...  RESOLVED     WONTFIX   \n",
       "1  Please add Match Whole Word Only option to bro...  RESOLVED  NDUPLICATE   \n",
       "2  I would really like a plug-in manager for my b...  RESOLVED     WONTFIX   \n",
       "3  Language encodings are listed in a seemingly r...  RESOLVED  WORKSFORME   \n",
       "4  From Bugzilla Helper:; User-Agent: Mozilla/5.0...  RESOLVED  WORKSFORME   \n",
       "\n",
       "       Version               Created_time              Resolved_time  \\\n",
       "0        Trunk  1999-07-30 15:55:51 -0700  2008-05-14 11:44:15 -0700   \n",
       "1        Trunk  1999-09-24 14:49:34 -0700  2011-10-05 16:35:31 -0700   \n",
       "2        Trunk  1999-11-17 14:58:26 -0800  2013-01-29 11:48:39 -0800   \n",
       "3        Trunk  2000-09-29 14:12:11 -0700  2013-02-27 15:47:29 -0800   \n",
       "4  unspecified  2000-10-16 14:48:15 -0700  2009-10-14 11:38:29 -0700   \n",
       "\n",
       "                                             Content Duplicated_issues  \\\n",
       "0  Dialup properties needs to be exposed in prefs...                []   \n",
       "1  [Find] Find whole word only Please add Match W...                []   \n",
       "2  Plug-In Manager (ui for choosing mimetype-plug...                []   \n",
       "3  Language encodings in font prefs dialog not so...          [696639]   \n",
       "4  Synaptics touchpad scrolling not working From ...                []   \n",
       "\n",
       "   Duplicates_count  \n",
       "0                 0  \n",
       "1                 0  \n",
       "2                 0  \n",
       "3                 1  \n",
       "4                 0  "
      ]
     },
     "execution_count": 7,
     "metadata": {},
     "output_type": "execute_result"
    }
   ],
   "source": [
    "processed_df.head()"
   ]
  },
  {
   "cell_type": "code",
   "execution_count": 8,
   "metadata": {},
   "outputs": [
    {
     "data": {
      "text/html": [
       "<div>\n",
       "<style scoped>\n",
       "    .dataframe tbody tr th:only-of-type {\n",
       "        vertical-align: middle;\n",
       "    }\n",
       "\n",
       "    .dataframe tbody tr th {\n",
       "        vertical-align: top;\n",
       "    }\n",
       "\n",
       "    .dataframe thead th {\n",
       "        text-align: right;\n",
       "    }\n",
       "</style>\n",
       "<table border=\"1\" class=\"dataframe\">\n",
       "  <thead>\n",
       "    <tr style=\"text-align: right;\">\n",
       "      <th></th>\n",
       "      <th>Issue_id</th>\n",
       "      <th>Priority</th>\n",
       "      <th>Component</th>\n",
       "      <th>Title</th>\n",
       "      <th>Description</th>\n",
       "      <th>Status</th>\n",
       "      <th>Resolution</th>\n",
       "      <th>Version</th>\n",
       "      <th>Created_time</th>\n",
       "      <th>Resolved_time</th>\n",
       "      <th>Content</th>\n",
       "      <th>Duplicated_issues</th>\n",
       "      <th>Duplicates_count</th>\n",
       "    </tr>\n",
       "  </thead>\n",
       "  <tbody>\n",
       "    <tr>\n",
       "      <th>75347</th>\n",
       "      <td>524500</td>\n",
       "      <td>--</td>\n",
       "      <td>Security</td>\n",
       "      <td>Impossible to add self-signed certificates to ...</td>\n",
       "      <td>User-Agent:       Mozilla/5.0 (Windows; U; Win...</td>\n",
       "      <td>VERIFIED</td>\n",
       "      <td>DUPLICATE</td>\n",
       "      <td>10 Branch</td>\n",
       "      <td>2009-10-26 11:11:06 -0700</td>\n",
       "      <td>2012-03-17 09:21:15 -0700</td>\n",
       "      <td>Impossible to add self-signed certificates to ...</td>\n",
       "      <td>[522147, 512343]</td>\n",
       "      <td>2</td>\n",
       "    </tr>\n",
       "    <tr>\n",
       "      <th>18564</th>\n",
       "      <td>283775</td>\n",
       "      <td>--</td>\n",
       "      <td>Build Config</td>\n",
       "      <td>rich text editor control or HTML editing not s...</td>\n",
       "      <td>User-Agent:       Mozilla/5.0 (Windows; U; Win...</td>\n",
       "      <td>RESOLVED</td>\n",
       "      <td>DUPLICATE</td>\n",
       "      <td>unspecified</td>\n",
       "      <td>2005-02-25 21:19:59 -0800</td>\n",
       "      <td>2005-02-25 22:12:16 -0800</td>\n",
       "      <td>rich text editor control or HTML editing not s...</td>\n",
       "      <td>[268768, 283773]</td>\n",
       "      <td>2</td>\n",
       "    </tr>\n",
       "    <tr>\n",
       "      <th>69867</th>\n",
       "      <td>491997</td>\n",
       "      <td>--</td>\n",
       "      <td>General</td>\n",
       "      <td>After Tooltip appearance; next mouse move caus...</td>\n",
       "      <td>User-Agent:       Mozilla/5.0 (Macintosh; U; I...</td>\n",
       "      <td>RESOLVED</td>\n",
       "      <td>DUPLICATE</td>\n",
       "      <td>unspecified</td>\n",
       "      <td>2009-05-07 20:33:59 -0700</td>\n",
       "      <td>2009-05-08 10:08:56 -0700</td>\n",
       "      <td>After Tooltip appearance; next mouse move caus...</td>\n",
       "      <td>[490914, 491959]</td>\n",
       "      <td>2</td>\n",
       "    </tr>\n",
       "    <tr>\n",
       "      <th>90470</th>\n",
       "      <td>632764</td>\n",
       "      <td>--</td>\n",
       "      <td>General</td>\n",
       "      <td>Acquire permission to distribute the Adobe Fla...</td>\n",
       "      <td>User-Agent:       Mozilla/5.0 (Windows NT 6.1;...</td>\n",
       "      <td>RESOLVED</td>\n",
       "      <td>DUPLICATE</td>\n",
       "      <td>unspecified</td>\n",
       "      <td>2011-02-09 03:29:59 -0800</td>\n",
       "      <td>2011-02-09 09:34:35 -0800</td>\n",
       "      <td>Acquire permission to distribute the Adobe Fla...</td>\n",
       "      <td>[249098, 631820]</td>\n",
       "      <td>2</td>\n",
       "    </tr>\n",
       "    <tr>\n",
       "      <th>51913</th>\n",
       "      <td>413919</td>\n",
       "      <td>--</td>\n",
       "      <td>Phishing Protection</td>\n",
       "      <td>Phishing protection doesnt work for Firefox 3</td>\n",
       "      <td>Mozilla/5.0 (Macintosh; U; Intel Mac OS X 10.4...</td>\n",
       "      <td>VERIFIED</td>\n",
       "      <td>WORKSFORME</td>\n",
       "      <td>Trunk</td>\n",
       "      <td>2008-01-24 15:05:11 -0800</td>\n",
       "      <td>2008-04-08 18:15:22 -0700</td>\n",
       "      <td>Phishing protection doesnt work for Firefox 3 ...</td>\n",
       "      <td>[413600]</td>\n",
       "      <td>1</td>\n",
       "    </tr>\n",
       "  </tbody>\n",
       "</table>\n",
       "</div>"
      ],
      "text/plain": [
       "       Issue_id Priority            Component  \\\n",
       "75347    524500       --             Security   \n",
       "18564    283775       --         Build Config   \n",
       "69867    491997       --              General   \n",
       "90470    632764       --              General   \n",
       "51913    413919       --  Phishing Protection   \n",
       "\n",
       "                                                   Title  \\\n",
       "75347  Impossible to add self-signed certificates to ...   \n",
       "18564  rich text editor control or HTML editing not s...   \n",
       "69867  After Tooltip appearance; next mouse move caus...   \n",
       "90470  Acquire permission to distribute the Adobe Fla...   \n",
       "51913      Phishing protection doesnt work for Firefox 3   \n",
       "\n",
       "                                             Description    Status  \\\n",
       "75347  User-Agent:       Mozilla/5.0 (Windows; U; Win...  VERIFIED   \n",
       "18564  User-Agent:       Mozilla/5.0 (Windows; U; Win...  RESOLVED   \n",
       "69867  User-Agent:       Mozilla/5.0 (Macintosh; U; I...  RESOLVED   \n",
       "90470  User-Agent:       Mozilla/5.0 (Windows NT 6.1;...  RESOLVED   \n",
       "51913  Mozilla/5.0 (Macintosh; U; Intel Mac OS X 10.4...  VERIFIED   \n",
       "\n",
       "       Resolution      Version               Created_time  \\\n",
       "75347   DUPLICATE    10 Branch  2009-10-26 11:11:06 -0700   \n",
       "18564   DUPLICATE  unspecified  2005-02-25 21:19:59 -0800   \n",
       "69867   DUPLICATE  unspecified  2009-05-07 20:33:59 -0700   \n",
       "90470   DUPLICATE  unspecified  2011-02-09 03:29:59 -0800   \n",
       "51913  WORKSFORME        Trunk  2008-01-24 15:05:11 -0800   \n",
       "\n",
       "                   Resolved_time  \\\n",
       "75347  2012-03-17 09:21:15 -0700   \n",
       "18564  2005-02-25 22:12:16 -0800   \n",
       "69867  2009-05-08 10:08:56 -0700   \n",
       "90470  2011-02-09 09:34:35 -0800   \n",
       "51913  2008-04-08 18:15:22 -0700   \n",
       "\n",
       "                                                 Content Duplicated_issues  \\\n",
       "75347  Impossible to add self-signed certificates to ...  [522147, 512343]   \n",
       "18564  rich text editor control or HTML editing not s...  [268768, 283773]   \n",
       "69867  After Tooltip appearance; next mouse move caus...  [490914, 491959]   \n",
       "90470  Acquire permission to distribute the Adobe Fla...  [249098, 631820]   \n",
       "51913  Phishing protection doesnt work for Firefox 3 ...          [413600]   \n",
       "\n",
       "       Duplicates_count  \n",
       "75347                 2  \n",
       "18564                 2  \n",
       "69867                 2  \n",
       "90470                 2  \n",
       "51913                 1  "
      ]
     },
     "execution_count": 8,
     "metadata": {},
     "output_type": "execute_result"
    }
   ],
   "source": [
    "processed_df = processed_df.sort_values(by=['Duplicates_count'], ascending=False)\n",
    "processed_df.head()"
   ]
  },
  {
   "cell_type": "code",
   "execution_count": 9,
   "metadata": {},
   "outputs": [
    {
     "name": "stdout",
     "output_type": "stream",
     "text": [
      "Issue_id                                                        524500\n",
      "Priority                                                            --\n",
      "Component                                                     Security\n",
      "Title                Impossible to add self-signed certificates to ...\n",
      "Description          User-Agent:       Mozilla/5.0 (Windows; U; Win...\n",
      "Status                                                        VERIFIED\n",
      "Resolution                                                   DUPLICATE\n",
      "Version                                                      10 Branch\n",
      "Created_time                                 2009-10-26 11:11:06 -0700\n",
      "Resolved_time                                2012-03-17 09:21:15 -0700\n",
      "Content              Impossible to add self-signed certificates to ...\n",
      "Duplicated_issues                                     [522147, 512343]\n",
      "Duplicates_count                                                     2\n",
      "Name: 75347, dtype: object\n"
     ]
    }
   ],
   "source": [
    "row_with_highest_duplicates_count = processed_df.loc[processed_df['Duplicates_count'].idxmax()]\n",
    "print(row_with_highest_duplicates_count)\n"
   ]
  },
  {
   "cell_type": "code",
   "execution_count": 10,
   "metadata": {},
   "outputs": [
    {
     "data": {
      "text/html": [
       "<div>\n",
       "<style scoped>\n",
       "    .dataframe tbody tr th:only-of-type {\n",
       "        vertical-align: middle;\n",
       "    }\n",
       "\n",
       "    .dataframe tbody tr th {\n",
       "        vertical-align: top;\n",
       "    }\n",
       "\n",
       "    .dataframe thead th {\n",
       "        text-align: right;\n",
       "    }\n",
       "</style>\n",
       "<table border=\"1\" class=\"dataframe\">\n",
       "  <thead>\n",
       "    <tr style=\"text-align: right;\">\n",
       "      <th></th>\n",
       "      <th>Issue_id</th>\n",
       "      <th>Priority</th>\n",
       "      <th>Component</th>\n",
       "      <th>Title</th>\n",
       "      <th>Description</th>\n",
       "      <th>Status</th>\n",
       "      <th>Resolution</th>\n",
       "      <th>Version</th>\n",
       "      <th>Created_time</th>\n",
       "      <th>Resolved_time</th>\n",
       "      <th>Content</th>\n",
       "      <th>Duplicated_issues</th>\n",
       "      <th>Duplicates_count</th>\n",
       "    </tr>\n",
       "  </thead>\n",
       "  <tbody>\n",
       "    <tr>\n",
       "      <th>75347</th>\n",
       "      <td>524500</td>\n",
       "      <td>--</td>\n",
       "      <td>Security</td>\n",
       "      <td>Impossible to add self-signed certificates to ...</td>\n",
       "      <td>User-Agent:       Mozilla/5.0 (Windows; U; Win...</td>\n",
       "      <td>VERIFIED</td>\n",
       "      <td>DUPLICATE</td>\n",
       "      <td>10 Branch</td>\n",
       "      <td>2009-10-26 11:11:06 -0700</td>\n",
       "      <td>2012-03-17 09:21:15 -0700</td>\n",
       "      <td>Impossible to add self-signed certificates to ...</td>\n",
       "      <td>[522147, 512343]</td>\n",
       "      <td>2</td>\n",
       "    </tr>\n",
       "    <tr>\n",
       "      <th>69867</th>\n",
       "      <td>491997</td>\n",
       "      <td>--</td>\n",
       "      <td>General</td>\n",
       "      <td>After Tooltip appearance; next mouse move caus...</td>\n",
       "      <td>User-Agent:       Mozilla/5.0 (Macintosh; U; I...</td>\n",
       "      <td>RESOLVED</td>\n",
       "      <td>DUPLICATE</td>\n",
       "      <td>unspecified</td>\n",
       "      <td>2009-05-07 20:33:59 -0700</td>\n",
       "      <td>2009-05-08 10:08:56 -0700</td>\n",
       "      <td>After Tooltip appearance; next mouse move caus...</td>\n",
       "      <td>[490914, 491959]</td>\n",
       "      <td>2</td>\n",
       "    </tr>\n",
       "    <tr>\n",
       "      <th>90470</th>\n",
       "      <td>632764</td>\n",
       "      <td>--</td>\n",
       "      <td>General</td>\n",
       "      <td>Acquire permission to distribute the Adobe Fla...</td>\n",
       "      <td>User-Agent:       Mozilla/5.0 (Windows NT 6.1;...</td>\n",
       "      <td>RESOLVED</td>\n",
       "      <td>DUPLICATE</td>\n",
       "      <td>unspecified</td>\n",
       "      <td>2011-02-09 03:29:59 -0800</td>\n",
       "      <td>2011-02-09 09:34:35 -0800</td>\n",
       "      <td>Acquire permission to distribute the Adobe Fla...</td>\n",
       "      <td>[249098, 631820]</td>\n",
       "      <td>2</td>\n",
       "    </tr>\n",
       "    <tr>\n",
       "      <th>18564</th>\n",
       "      <td>283775</td>\n",
       "      <td>--</td>\n",
       "      <td>Build Config</td>\n",
       "      <td>rich text editor control or HTML editing not s...</td>\n",
       "      <td>User-Agent:       Mozilla/5.0 (Windows; U; Win...</td>\n",
       "      <td>RESOLVED</td>\n",
       "      <td>DUPLICATE</td>\n",
       "      <td>unspecified</td>\n",
       "      <td>2005-02-25 21:19:59 -0800</td>\n",
       "      <td>2005-02-25 22:12:16 -0800</td>\n",
       "      <td>rich text editor control or HTML editing not s...</td>\n",
       "      <td>[268768, 283773]</td>\n",
       "      <td>2</td>\n",
       "    </tr>\n",
       "    <tr>\n",
       "      <th>86823</th>\n",
       "      <td>603112</td>\n",
       "      <td>--</td>\n",
       "      <td>Location Bar</td>\n",
       "      <td>Feature request for address bar - Enable/disab...</td>\n",
       "      <td>User-Agent:       Mozilla/5.0 (Macintosh; Inte...</td>\n",
       "      <td>RESOLVED</td>\n",
       "      <td>DUPLICATE</td>\n",
       "      <td>unspecified</td>\n",
       "      <td>2010-10-09 12:54:19 -0700</td>\n",
       "      <td>2010-10-15 03:36:25 -0700</td>\n",
       "      <td>Feature request for address bar - Enable/disab...</td>\n",
       "      <td>[788778]</td>\n",
       "      <td>1</td>\n",
       "    </tr>\n",
       "  </tbody>\n",
       "</table>\n",
       "</div>"
      ],
      "text/plain": [
       "       Issue_id Priority     Component  \\\n",
       "75347    524500       --      Security   \n",
       "69867    491997       --       General   \n",
       "90470    632764       --       General   \n",
       "18564    283775       --  Build Config   \n",
       "86823    603112       --  Location Bar   \n",
       "\n",
       "                                                   Title  \\\n",
       "75347  Impossible to add self-signed certificates to ...   \n",
       "69867  After Tooltip appearance; next mouse move caus...   \n",
       "90470  Acquire permission to distribute the Adobe Fla...   \n",
       "18564  rich text editor control or HTML editing not s...   \n",
       "86823  Feature request for address bar - Enable/disab...   \n",
       "\n",
       "                                             Description    Status Resolution  \\\n",
       "75347  User-Agent:       Mozilla/5.0 (Windows; U; Win...  VERIFIED  DUPLICATE   \n",
       "69867  User-Agent:       Mozilla/5.0 (Macintosh; U; I...  RESOLVED  DUPLICATE   \n",
       "90470  User-Agent:       Mozilla/5.0 (Windows NT 6.1;...  RESOLVED  DUPLICATE   \n",
       "18564  User-Agent:       Mozilla/5.0 (Windows; U; Win...  RESOLVED  DUPLICATE   \n",
       "86823  User-Agent:       Mozilla/5.0 (Macintosh; Inte...  RESOLVED  DUPLICATE   \n",
       "\n",
       "           Version               Created_time              Resolved_time  \\\n",
       "75347    10 Branch  2009-10-26 11:11:06 -0700  2012-03-17 09:21:15 -0700   \n",
       "69867  unspecified  2009-05-07 20:33:59 -0700  2009-05-08 10:08:56 -0700   \n",
       "90470  unspecified  2011-02-09 03:29:59 -0800  2011-02-09 09:34:35 -0800   \n",
       "18564  unspecified  2005-02-25 21:19:59 -0800  2005-02-25 22:12:16 -0800   \n",
       "86823  unspecified  2010-10-09 12:54:19 -0700  2010-10-15 03:36:25 -0700   \n",
       "\n",
       "                                                 Content Duplicated_issues  \\\n",
       "75347  Impossible to add self-signed certificates to ...  [522147, 512343]   \n",
       "69867  After Tooltip appearance; next mouse move caus...  [490914, 491959]   \n",
       "90470  Acquire permission to distribute the Adobe Fla...  [249098, 631820]   \n",
       "18564  rich text editor control or HTML editing not s...  [268768, 283773]   \n",
       "86823  Feature request for address bar - Enable/disab...          [788778]   \n",
       "\n",
       "       Duplicates_count  \n",
       "75347                 2  \n",
       "69867                 2  \n",
       "90470                 2  \n",
       "18564                 2  \n",
       "86823                 1  "
      ]
     },
     "execution_count": 10,
     "metadata": {},
     "output_type": "execute_result"
    }
   ],
   "source": [
    "processed_df = processed_df.sort_values(by='Duplicates_count', ascending=False)\n",
    "processed_df.head()"
   ]
  },
  {
   "cell_type": "code",
   "execution_count": 13,
   "metadata": {},
   "outputs": [
    {
     "name": "stdout",
     "output_type": "stream",
     "text": [
      "11904\n",
      "11901\n"
     ]
    }
   ],
   "source": [
    "new_df = processed_df.head(100)\n",
    "\n",
    "issue_id_list = new_df['Issue_id'].tolist()\n",
    "\n",
    "duplicated_issues_list = set(tuple(x) for x in new_df['Duplicated_issues'].tolist())\n",
    "\n",
    "count = 0\n",
    "\n",
    "for duplicated_issue in duplicated_issues_list:\n",
    "    for issue_id in issue_id_list:\n",
    "        if issue_id in duplicated_issue:  # Check if issue_id is in the current duplicated_issue tuple\n",
    "            count += 1\n",
    "        \n",
    "print(count)\n",
    "print(len(duplicated_issues_list))\n",
    "\n"
   ]
  },
  {
   "cell_type": "code",
   "execution_count": 12,
   "metadata": {},
   "outputs": [
    {
     "name": "stdout",
     "output_type": "stream",
     "text": [
      "24\n",
      "100\n"
     ]
    }
   ],
   "source": [
    "new_df = processed_df.head(100)\n",
    "\n",
    "issue_id_list = new_df['Issue_id'].tolist()\n",
    "\n",
    "duplicated_issues_list = set(tuple(x) for x in new_df['Duplicated_issues'].tolist())\n",
    "\n",
    "count = 0\n",
    "\n",
    "for duplicated_issue in duplicated_issues_list:\n",
    "    for issue_id in issue_id_list:\n",
    "        if issue_id in duplicated_issue:\n",
    "            count += 1\n",
    "        \n",
    "print(count)\n",
    "print(len(duplicated_issues_list))\n"
   ]
  },
  {
   "cell_type": "code",
   "execution_count": 13,
   "metadata": {},
   "outputs": [],
   "source": [
    "rows_to_add = []\n",
    "\n",
    "for duplicated_issue in duplicated_issues_list:\n",
    "    for issue_id in duplicated_issue:\n",
    "        if issue_id in issue_id_list:\n",
    "            # Collect DataFrame rows that match the condition\n",
    "            rows_to_add.append(processed_df[processed_df['Issue_id'] == issue_id])\n",
    "\n",
    "# Use concat to add all rows at once if there are any rows to add\n",
    "if rows_to_add:\n",
    "    new_df = pd.concat([new_df] + rows_to_add, ignore_index=True)\n",
    "\n",
    "# Reset the index of new_df\n",
    "new_df.reset_index(drop=True, inplace=True)"
   ]
  },
  {
   "cell_type": "code",
   "execution_count": 14,
   "metadata": {},
   "outputs": [
    {
     "data": {
      "text/plain": [
       "(124, 13)"
      ]
     },
     "execution_count": 14,
     "metadata": {},
     "output_type": "execute_result"
    }
   ],
   "source": [
    "new_df.shape"
   ]
  },
  {
   "cell_type": "code",
   "execution_count": 15,
   "metadata": {},
   "outputs": [],
   "source": [
    "new_df = pd.to_pickle(new_df, 'top_100_duplicates.pkl')"
   ]
  },
  {
   "cell_type": "markdown",
   "metadata": {},
   "source": [
    "# Generate Embeddings"
   ]
  },
  {
   "cell_type": "code",
   "execution_count": 16,
   "metadata": {},
   "outputs": [
    {
     "name": "stderr",
     "output_type": "stream",
     "text": [
      "/mnt/c/Users/ncian/OneDrive/Desktop/CMPT413-Final-Project/venv/lib/python3.10/site-packages/tqdm/auto.py:21: TqdmWarning: IProgress not found. Please update jupyter and ipywidgets. See https://ipywidgets.readthedocs.io/en/stable/user_install.html\n",
      "  from .autonotebook import tqdm as notebook_tqdm\n"
     ]
    }
   ],
   "source": [
    "from generate_embeddings import EmbeddingsPipeline"
   ]
  },
  {
   "cell_type": "code",
   "execution_count": 17,
   "metadata": {},
   "outputs": [],
   "source": [
    "embeddings_pipeline = EmbeddingsPipeline(dataset_filename_pickle, model_name)"
   ]
  },
  {
   "cell_type": "code",
   "execution_count": 18,
   "metadata": {},
   "outputs": [
    {
     "name": "stdout",
     "output_type": "stream",
     "text": [
      "Embeddings file created: mozilla_firefox_embeddings_sentence-transformers/multi-qa-mpnet-base-dot-v1\n"
     ]
    }
   ],
   "source": [
    "embeddings_pipeline.process()"
   ]
  },
  {
   "cell_type": "code",
   "execution_count": 19,
   "metadata": {},
   "outputs": [
    {
     "data": {
      "text/html": [
       "<div>\n",
       "<style scoped>\n",
       "    .dataframe tbody tr th:only-of-type {\n",
       "        vertical-align: middle;\n",
       "    }\n",
       "\n",
       "    .dataframe tbody tr th {\n",
       "        vertical-align: top;\n",
       "    }\n",
       "\n",
       "    .dataframe thead th {\n",
       "        text-align: right;\n",
       "    }\n",
       "</style>\n",
       "<table border=\"1\" class=\"dataframe\">\n",
       "  <thead>\n",
       "    <tr style=\"text-align: right;\">\n",
       "      <th></th>\n",
       "      <th>Issue_id</th>\n",
       "      <th>Priority</th>\n",
       "      <th>Component</th>\n",
       "      <th>Title</th>\n",
       "      <th>Description</th>\n",
       "      <th>Status</th>\n",
       "      <th>Resolution</th>\n",
       "      <th>Version</th>\n",
       "      <th>Created_time</th>\n",
       "      <th>Resolved_time</th>\n",
       "      <th>Content</th>\n",
       "      <th>Duplicated_issues</th>\n",
       "      <th>Duplicates_count</th>\n",
       "    </tr>\n",
       "  </thead>\n",
       "  <tbody>\n",
       "    <tr>\n",
       "      <th>0</th>\n",
       "      <td>524500</td>\n",
       "      <td>--</td>\n",
       "      <td>Security</td>\n",
       "      <td>Impossible to add self-signed certificates to ...</td>\n",
       "      <td>User-Agent:       Mozilla/5.0 (Windows; U; Win...</td>\n",
       "      <td>VERIFIED</td>\n",
       "      <td>DUPLICATE</td>\n",
       "      <td>10 Branch</td>\n",
       "      <td>2009-10-26 11:11:06 -0700</td>\n",
       "      <td>2012-03-17 09:21:15 -0700</td>\n",
       "      <td>Impossible to add self-signed certificates to ...</td>\n",
       "      <td>[522147, 512343]</td>\n",
       "      <td>2</td>\n",
       "    </tr>\n",
       "    <tr>\n",
       "      <th>1</th>\n",
       "      <td>491997</td>\n",
       "      <td>--</td>\n",
       "      <td>General</td>\n",
       "      <td>After Tooltip appearance; next mouse move caus...</td>\n",
       "      <td>User-Agent:       Mozilla/5.0 (Macintosh; U; I...</td>\n",
       "      <td>RESOLVED</td>\n",
       "      <td>DUPLICATE</td>\n",
       "      <td>unspecified</td>\n",
       "      <td>2009-05-07 20:33:59 -0700</td>\n",
       "      <td>2009-05-08 10:08:56 -0700</td>\n",
       "      <td>After Tooltip appearance; next mouse move caus...</td>\n",
       "      <td>[490914, 491959]</td>\n",
       "      <td>2</td>\n",
       "    </tr>\n",
       "    <tr>\n",
       "      <th>2</th>\n",
       "      <td>632764</td>\n",
       "      <td>--</td>\n",
       "      <td>General</td>\n",
       "      <td>Acquire permission to distribute the Adobe Fla...</td>\n",
       "      <td>User-Agent:       Mozilla/5.0 (Windows NT 6.1;...</td>\n",
       "      <td>RESOLVED</td>\n",
       "      <td>DUPLICATE</td>\n",
       "      <td>unspecified</td>\n",
       "      <td>2011-02-09 03:29:59 -0800</td>\n",
       "      <td>2011-02-09 09:34:35 -0800</td>\n",
       "      <td>Acquire permission to distribute the Adobe Fla...</td>\n",
       "      <td>[249098, 631820]</td>\n",
       "      <td>2</td>\n",
       "    </tr>\n",
       "    <tr>\n",
       "      <th>3</th>\n",
       "      <td>283775</td>\n",
       "      <td>--</td>\n",
       "      <td>Build Config</td>\n",
       "      <td>rich text editor control or HTML editing not s...</td>\n",
       "      <td>User-Agent:       Mozilla/5.0 (Windows; U; Win...</td>\n",
       "      <td>RESOLVED</td>\n",
       "      <td>DUPLICATE</td>\n",
       "      <td>unspecified</td>\n",
       "      <td>2005-02-25 21:19:59 -0800</td>\n",
       "      <td>2005-02-25 22:12:16 -0800</td>\n",
       "      <td>rich text editor control or HTML editing not s...</td>\n",
       "      <td>[268768, 283773]</td>\n",
       "      <td>2</td>\n",
       "    </tr>\n",
       "    <tr>\n",
       "      <th>4</th>\n",
       "      <td>603112</td>\n",
       "      <td>--</td>\n",
       "      <td>Location Bar</td>\n",
       "      <td>Feature request for address bar - Enable/disab...</td>\n",
       "      <td>User-Agent:       Mozilla/5.0 (Macintosh; Inte...</td>\n",
       "      <td>RESOLVED</td>\n",
       "      <td>DUPLICATE</td>\n",
       "      <td>unspecified</td>\n",
       "      <td>2010-10-09 12:54:19 -0700</td>\n",
       "      <td>2010-10-15 03:36:25 -0700</td>\n",
       "      <td>Feature request for address bar - Enable/disab...</td>\n",
       "      <td>[788778]</td>\n",
       "      <td>1</td>\n",
       "    </tr>\n",
       "  </tbody>\n",
       "</table>\n",
       "</div>"
      ],
      "text/plain": [
       "   Issue_id Priority     Component  \\\n",
       "0    524500       --      Security   \n",
       "1    491997       --       General   \n",
       "2    632764       --       General   \n",
       "3    283775       --  Build Config   \n",
       "4    603112       --  Location Bar   \n",
       "\n",
       "                                               Title  \\\n",
       "0  Impossible to add self-signed certificates to ...   \n",
       "1  After Tooltip appearance; next mouse move caus...   \n",
       "2  Acquire permission to distribute the Adobe Fla...   \n",
       "3  rich text editor control or HTML editing not s...   \n",
       "4  Feature request for address bar - Enable/disab...   \n",
       "\n",
       "                                         Description    Status Resolution  \\\n",
       "0  User-Agent:       Mozilla/5.0 (Windows; U; Win...  VERIFIED  DUPLICATE   \n",
       "1  User-Agent:       Mozilla/5.0 (Macintosh; U; I...  RESOLVED  DUPLICATE   \n",
       "2  User-Agent:       Mozilla/5.0 (Windows NT 6.1;...  RESOLVED  DUPLICATE   \n",
       "3  User-Agent:       Mozilla/5.0 (Windows; U; Win...  RESOLVED  DUPLICATE   \n",
       "4  User-Agent:       Mozilla/5.0 (Macintosh; Inte...  RESOLVED  DUPLICATE   \n",
       "\n",
       "       Version               Created_time              Resolved_time  \\\n",
       "0    10 Branch  2009-10-26 11:11:06 -0700  2012-03-17 09:21:15 -0700   \n",
       "1  unspecified  2009-05-07 20:33:59 -0700  2009-05-08 10:08:56 -0700   \n",
       "2  unspecified  2011-02-09 03:29:59 -0800  2011-02-09 09:34:35 -0800   \n",
       "3  unspecified  2005-02-25 21:19:59 -0800  2005-02-25 22:12:16 -0800   \n",
       "4  unspecified  2010-10-09 12:54:19 -0700  2010-10-15 03:36:25 -0700   \n",
       "\n",
       "                                             Content Duplicated_issues  \\\n",
       "0  Impossible to add self-signed certificates to ...  [522147, 512343]   \n",
       "1  After Tooltip appearance; next mouse move caus...  [490914, 491959]   \n",
       "2  Acquire permission to distribute the Adobe Fla...  [249098, 631820]   \n",
       "3  rich text editor control or HTML editing not s...  [268768, 283773]   \n",
       "4  Feature request for address bar - Enable/disab...          [788778]   \n",
       "\n",
       "   Duplicates_count  \n",
       "0                 2  \n",
       "1                 2  \n",
       "2                 2  \n",
       "3                 2  \n",
       "4                 1  "
      ]
     },
     "execution_count": 19,
     "metadata": {},
     "output_type": "execute_result"
    }
   ],
   "source": [
    "embeddings_filename = f'{data_path}mozilla_firefox_embeddings_{model_name}.pkl'\n",
    "\n",
    "# embeddings_filename = 'top_100_duplicates.pkl'\n",
    "\n",
    "# Load and inspect the saved embeddings DataFrame\n",
    "embeddings_df = pd.read_pickle(embeddings_filename)\n",
    "embeddings_df.head()"
   ]
  },
  {
   "cell_type": "code",
   "execution_count": 20,
   "metadata": {},
   "outputs": [
    {
     "data": {
      "text/plain": [
       "(124, 13)"
      ]
     },
     "execution_count": 20,
     "metadata": {},
     "output_type": "execute_result"
    }
   ],
   "source": [
    "embeddings_df.shape"
   ]
  },
  {
   "cell_type": "code",
   "execution_count": 21,
   "metadata": {},
   "outputs": [
    {
     "data": {
      "text/plain": [
       "Index(['Issue_id', 'Priority', 'Component', 'Title', 'Description', 'Status',\n",
       "       'Resolution', 'Version', 'Created_time', 'Resolved_time', 'Content',\n",
       "       'Duplicated_issues', 'Duplicates_count'],\n",
       "      dtype='object')"
      ]
     },
     "execution_count": 21,
     "metadata": {},
     "output_type": "execute_result"
    }
   ],
   "source": [
    "embeddings_df.columns"
   ]
  },
  {
   "cell_type": "markdown",
   "metadata": {},
   "source": [
    "# Evaluate the embeddings"
   ]
  },
  {
   "cell_type": "code",
   "execution_count": 22,
   "metadata": {},
   "outputs": [],
   "source": [
    "from evaluate_embeddings import EmbeddingEvaluator"
   ]
  },
  {
   "cell_type": "code",
   "execution_count": 23,
   "metadata": {},
   "outputs": [
    {
     "ename": "KeyError",
     "evalue": "'Embedding'",
     "output_type": "error",
     "traceback": [
      "\u001b[0;31m---------------------------------------------------------------------------\u001b[0m",
      "\u001b[0;31mKeyError\u001b[0m                                  Traceback (most recent call last)",
      "File \u001b[0;32m/mnt/c/Users/ncian/OneDrive/Desktop/CMPT413-Final-Project/venv/lib/python3.10/site-packages/pandas/core/indexes/base.py:3805\u001b[0m, in \u001b[0;36mIndex.get_loc\u001b[0;34m(self, key)\u001b[0m\n\u001b[1;32m   3804\u001b[0m \u001b[38;5;28;01mtry\u001b[39;00m:\n\u001b[0;32m-> 3805\u001b[0m     \u001b[38;5;28;01mreturn\u001b[39;00m \u001b[38;5;28;43mself\u001b[39;49m\u001b[38;5;241;43m.\u001b[39;49m\u001b[43m_engine\u001b[49m\u001b[38;5;241;43m.\u001b[39;49m\u001b[43mget_loc\u001b[49m\u001b[43m(\u001b[49m\u001b[43mcasted_key\u001b[49m\u001b[43m)\u001b[49m\n\u001b[1;32m   3806\u001b[0m \u001b[38;5;28;01mexcept\u001b[39;00m \u001b[38;5;167;01mKeyError\u001b[39;00m \u001b[38;5;28;01mas\u001b[39;00m err:\n",
      "File \u001b[0;32mindex.pyx:167\u001b[0m, in \u001b[0;36mpandas._libs.index.IndexEngine.get_loc\u001b[0;34m()\u001b[0m\n",
      "File \u001b[0;32mindex.pyx:196\u001b[0m, in \u001b[0;36mpandas._libs.index.IndexEngine.get_loc\u001b[0;34m()\u001b[0m\n",
      "File \u001b[0;32mpandas/_libs/hashtable_class_helper.pxi:7081\u001b[0m, in \u001b[0;36mpandas._libs.hashtable.PyObjectHashTable.get_item\u001b[0;34m()\u001b[0m\n",
      "File \u001b[0;32mpandas/_libs/hashtable_class_helper.pxi:7089\u001b[0m, in \u001b[0;36mpandas._libs.hashtable.PyObjectHashTable.get_item\u001b[0;34m()\u001b[0m\n",
      "\u001b[0;31mKeyError\u001b[0m: 'Embedding'",
      "\nThe above exception was the direct cause of the following exception:\n",
      "\u001b[0;31mKeyError\u001b[0m                                  Traceback (most recent call last)",
      "Cell \u001b[0;32mIn[23], line 1\u001b[0m\n\u001b[0;32m----> 1\u001b[0m evaluator \u001b[38;5;241m=\u001b[39m \u001b[43mEmbeddingEvaluator\u001b[49m\u001b[43m(\u001b[49m\u001b[43mdataset_name\u001b[49m\u001b[43m,\u001b[49m\u001b[43m \u001b[49m\u001b[43mmodel_name\u001b[49m\u001b[43m,\u001b[49m\u001b[43m \u001b[49m\u001b[43membeddings_df\u001b[49m\u001b[43m)\u001b[49m\n",
      "File \u001b[0;32m/mnt/c/Users/ncian/OneDrive/Desktop/CMPT413-Final-Project/master/evaluate_embeddings.py:22\u001b[0m, in \u001b[0;36mEmbeddingEvaluator.__init__\u001b[0;34m(self, dataset_name, model_name, embeddings_dataframe)\u001b[0m\n\u001b[1;32m     20\u001b[0m \u001b[38;5;28mself\u001b[39m\u001b[38;5;241m.\u001b[39membeddings_filename \u001b[38;5;241m=\u001b[39m \u001b[38;5;124mf\u001b[39m\u001b[38;5;124m'\u001b[39m\u001b[38;5;124m../data/\u001b[39m\u001b[38;5;132;01m{\u001b[39;00mdataset_name\u001b[38;5;132;01m}\u001b[39;00m\u001b[38;5;124m_embeddings_\u001b[39m\u001b[38;5;132;01m{\u001b[39;00mmodel_name\u001b[38;5;132;01m}\u001b[39;00m\u001b[38;5;124m.pkl\u001b[39m\u001b[38;5;124m'\u001b[39m\n\u001b[1;32m     21\u001b[0m \u001b[38;5;28mself\u001b[39m\u001b[38;5;241m.\u001b[39membeddings_df \u001b[38;5;241m=\u001b[39m embeddings_dataframe\n\u001b[0;32m---> 22\u001b[0m \u001b[38;5;28mself\u001b[39m\u001b[38;5;241m.\u001b[39msimilarity_matrix \u001b[38;5;241m=\u001b[39m \u001b[38;5;28;43mself\u001b[39;49m\u001b[38;5;241;43m.\u001b[39;49m\u001b[43m_precompute_similarity_matrix\u001b[49m\u001b[43m(\u001b[49m\u001b[43m)\u001b[49m\n",
      "File \u001b[0;32m/mnt/c/Users/ncian/OneDrive/Desktop/CMPT413-Final-Project/master/evaluate_embeddings.py:25\u001b[0m, in \u001b[0;36mEmbeddingEvaluator._precompute_similarity_matrix\u001b[0;34m(self)\u001b[0m\n\u001b[1;32m     24\u001b[0m \u001b[38;5;28;01mdef\u001b[39;00m \u001b[38;5;21m_precompute_similarity_matrix\u001b[39m(\u001b[38;5;28mself\u001b[39m):\n\u001b[0;32m---> 25\u001b[0m     embeddings \u001b[38;5;241m=\u001b[39m np\u001b[38;5;241m.\u001b[39mstack(\u001b[38;5;28;43mself\u001b[39;49m\u001b[38;5;241;43m.\u001b[39;49m\u001b[43membeddings_df\u001b[49m\u001b[43m[\u001b[49m\u001b[38;5;124;43m'\u001b[39;49m\u001b[38;5;124;43mEmbedding\u001b[39;49m\u001b[38;5;124;43m'\u001b[39;49m\u001b[43m]\u001b[49m\u001b[38;5;241m.\u001b[39mvalues)\n\u001b[1;32m     26\u001b[0m     \u001b[38;5;28;01mreturn\u001b[39;00m cosine_similarity(embeddings)\n",
      "File \u001b[0;32m/mnt/c/Users/ncian/OneDrive/Desktop/CMPT413-Final-Project/venv/lib/python3.10/site-packages/pandas/core/frame.py:4090\u001b[0m, in \u001b[0;36mDataFrame.__getitem__\u001b[0;34m(self, key)\u001b[0m\n\u001b[1;32m   4088\u001b[0m \u001b[38;5;28;01mif\u001b[39;00m \u001b[38;5;28mself\u001b[39m\u001b[38;5;241m.\u001b[39mcolumns\u001b[38;5;241m.\u001b[39mnlevels \u001b[38;5;241m>\u001b[39m \u001b[38;5;241m1\u001b[39m:\n\u001b[1;32m   4089\u001b[0m     \u001b[38;5;28;01mreturn\u001b[39;00m \u001b[38;5;28mself\u001b[39m\u001b[38;5;241m.\u001b[39m_getitem_multilevel(key)\n\u001b[0;32m-> 4090\u001b[0m indexer \u001b[38;5;241m=\u001b[39m \u001b[38;5;28;43mself\u001b[39;49m\u001b[38;5;241;43m.\u001b[39;49m\u001b[43mcolumns\u001b[49m\u001b[38;5;241;43m.\u001b[39;49m\u001b[43mget_loc\u001b[49m\u001b[43m(\u001b[49m\u001b[43mkey\u001b[49m\u001b[43m)\u001b[49m\n\u001b[1;32m   4091\u001b[0m \u001b[38;5;28;01mif\u001b[39;00m is_integer(indexer):\n\u001b[1;32m   4092\u001b[0m     indexer \u001b[38;5;241m=\u001b[39m [indexer]\n",
      "File \u001b[0;32m/mnt/c/Users/ncian/OneDrive/Desktop/CMPT413-Final-Project/venv/lib/python3.10/site-packages/pandas/core/indexes/base.py:3812\u001b[0m, in \u001b[0;36mIndex.get_loc\u001b[0;34m(self, key)\u001b[0m\n\u001b[1;32m   3807\u001b[0m     \u001b[38;5;28;01mif\u001b[39;00m \u001b[38;5;28misinstance\u001b[39m(casted_key, \u001b[38;5;28mslice\u001b[39m) \u001b[38;5;129;01mor\u001b[39;00m (\n\u001b[1;32m   3808\u001b[0m         \u001b[38;5;28misinstance\u001b[39m(casted_key, abc\u001b[38;5;241m.\u001b[39mIterable)\n\u001b[1;32m   3809\u001b[0m         \u001b[38;5;129;01mand\u001b[39;00m \u001b[38;5;28many\u001b[39m(\u001b[38;5;28misinstance\u001b[39m(x, \u001b[38;5;28mslice\u001b[39m) \u001b[38;5;28;01mfor\u001b[39;00m x \u001b[38;5;129;01min\u001b[39;00m casted_key)\n\u001b[1;32m   3810\u001b[0m     ):\n\u001b[1;32m   3811\u001b[0m         \u001b[38;5;28;01mraise\u001b[39;00m InvalidIndexError(key)\n\u001b[0;32m-> 3812\u001b[0m     \u001b[38;5;28;01mraise\u001b[39;00m \u001b[38;5;167;01mKeyError\u001b[39;00m(key) \u001b[38;5;28;01mfrom\u001b[39;00m \u001b[38;5;21;01merr\u001b[39;00m\n\u001b[1;32m   3813\u001b[0m \u001b[38;5;28;01mexcept\u001b[39;00m \u001b[38;5;167;01mTypeError\u001b[39;00m:\n\u001b[1;32m   3814\u001b[0m     \u001b[38;5;66;03m# If we have a listlike key, _check_indexing_error will raise\u001b[39;00m\n\u001b[1;32m   3815\u001b[0m     \u001b[38;5;66;03m#  InvalidIndexError. Otherwise we fall through and re-raise\u001b[39;00m\n\u001b[1;32m   3816\u001b[0m     \u001b[38;5;66;03m#  the TypeError.\u001b[39;00m\n\u001b[1;32m   3817\u001b[0m     \u001b[38;5;28mself\u001b[39m\u001b[38;5;241m.\u001b[39m_check_indexing_error(key)\n",
      "\u001b[0;31mKeyError\u001b[0m: 'Embedding'"
     ]
    }
   ],
   "source": [
    "evaluator = EmbeddingEvaluator(dataset_name, model_name, embeddings_df)"
   ]
  },
  {
   "cell_type": "code",
   "execution_count": null,
   "metadata": {},
   "outputs": [],
   "source": [
    "f1, precision, recall, _, tp, fp, fn, tn = evaluator.compute_f1()\n",
    "print(f\"F1 Score: {f1}, Precision: {precision}, Recall: {recall}\")\n",
    "print(f\"True Positives: {tp}, False Positives: {fp}, False Negatives: {fn}, True Negatives: {tn}\")"
   ]
  },
  {
   "cell_type": "code",
   "execution_count": null,
   "metadata": {},
   "outputs": [],
   "source": [
    "# Compute cross-entropy loss\n",
    "loss = evaluator.compute_crossEntropy()\n",
    "print(f\"Cross Entropy Loss: {loss}\")"
   ]
  },
  {
   "cell_type": "code",
   "execution_count": null,
   "metadata": {},
   "outputs": [],
   "source": [
    "# Compute ROC-AUC and plot the ROC curve\n",
    "roc_auc = evaluator.compute_roc_auc()\n",
    "print(f\"ROC-AUC: {roc_auc}\")"
   ]
  }
 ],
 "metadata": {
  "kernelspec": {
   "display_name": "venv",
   "language": "python",
   "name": "python3"
  },
  "language_info": {
   "codemirror_mode": {
    "name": "ipython",
    "version": 3
   },
   "file_extension": ".py",
   "mimetype": "text/x-python",
   "name": "python",
   "nbconvert_exporter": "python",
   "pygments_lexer": "ipython3",
   "version": "3.10.12"
  }
 },
 "nbformat": 4,
 "nbformat_minor": 2
}
